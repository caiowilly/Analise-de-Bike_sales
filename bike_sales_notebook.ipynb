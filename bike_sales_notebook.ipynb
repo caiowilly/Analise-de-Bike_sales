{
 "cells": [
  {
   "cell_type": "code",
   "execution_count": 1,
   "metadata": {},
   "outputs": [],
   "source": [
    "import pandas as pd\n",
    "import os\n",
    "import matplotlib.pyplot as plt\n",
    "import numpy as np"
   ]
  },
  {
   "cell_type": "code",
   "execution_count": 3,
   "metadata": {},
   "outputs": [
    {
     "name": "stdout",
     "output_type": "stream",
     "text": [
      "O nome do diretorio c:\\Users\\caiow\\Desktop\\portfolio de dados\\datasets\\kagle_datasets\\bike_sales e o nome do arquivo ['bike_sales_dash.xlsx', 'bike_sales_notebook.ipynb']\n"
     ]
    }
   ],
   "source": [
    "for dirname,_,filename in os.walk(os.getcwd()):\n",
    "    print(f'O nome do diretorio {dirname} e o nome do arquivo {filename}')"
   ]
  },
  {
   "cell_type": "code",
   "execution_count": null,
   "metadata": {},
   "outputs": [],
   "source": [
    "for dirname,_,filename in os.walk(os.getcwd()):\n",
    "    #print(f'O nome do diretorio {dirname} e o nome do arquivo {filename}')\n"
   ]
  }
 ],
 "metadata": {
  "kernelspec": {
   "display_name": "Python 3",
   "language": "python",
   "name": "python3"
  },
  "language_info": {
   "codemirror_mode": {
    "name": "ipython",
    "version": 3
   },
   "file_extension": ".py",
   "mimetype": "text/x-python",
   "name": "python",
   "nbconvert_exporter": "python",
   "pygments_lexer": "ipython3",
   "version": "3.12.1"
  }
 },
 "nbformat": 4,
 "nbformat_minor": 2
}
